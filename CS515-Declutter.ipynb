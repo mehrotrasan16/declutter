{
 "cells": [
  {
   "cell_type": "markdown",
   "metadata": {
    "toc": true
   },
   "source": [
    "<h1>Table of Contents<span class=\"tocSkip\"></span></h1>\n",
    "<div class=\"toc\"><ul class=\"toc-item\"><li><span><a href=\"#Dataset-Loading-and-Exploration\" data-toc-modified-id=\"Dataset-Loading-and-Exploration-1\"><span class=\"toc-item-num\">1&nbsp;&nbsp;</span>Dataset Loading and Exploration</a></span><ul class=\"toc-item\"><li><span><a href=\"#Declutter-dataset\" data-toc-modified-id=\"Declutter-dataset-1.1\"><span class=\"toc-item-num\">1.1&nbsp;&nbsp;</span>Declutter dataset</a></span></li><li><span><a href=\"#Extracing-more-comments-from-the-JabRef-source-code\" data-toc-modified-id=\"Extracing-more-comments-from-the-JabRef-source-code-1.2\"><span class=\"toc-item-num\">1.2&nbsp;&nbsp;</span>Extracing more comments from the JabRef source code</a></span><ul class=\"toc-item\"><li><span><a href=\"#Code-to-extract-comments-from-JabRef-Source-code-along-with-their-classes\" data-toc-modified-id=\"Code-to-extract-comments-from-JabRef-Source-code-along-with-their-classes-1.2.1\"><span class=\"toc-item-num\">1.2.1&nbsp;&nbsp;</span>Code to extract comments from JabRef Source code along with their classes</a></span><ul class=\"toc-item\"><li><span><a href=\"#Helper-functions\" data-toc-modified-id=\"Helper-functions-1.2.1.1\"><span class=\"toc-item-num\">1.2.1.1&nbsp;&nbsp;</span>Helper functions</a></span></li></ul></li></ul></li><li><span><a href=\"#Supplementary-Dataset-(from-Ref2:-Classifying-code-comments-in-Java)\" data-toc-modified-id=\"Supplementary-Dataset-(from-Ref2:-Classifying-code-comments-in-Java)-1.3\"><span class=\"toc-item-num\">1.3&nbsp;&nbsp;</span>Supplementary Dataset (from Ref2: Classifying code comments in Java)</a></span></li></ul></li><li><span><a href=\"#Data-Merging-and-Cleaning\" data-toc-modified-id=\"Data-Merging-and-Cleaning-2\"><span class=\"toc-item-num\">2&nbsp;&nbsp;</span>Data Merging and Cleaning</a></span></li><li><span><a href=\"#Training-a-word-embedding-on-the-sample-comments\" data-toc-modified-id=\"Training-a-word-embedding-on-the-sample-comments-3\"><span class=\"toc-item-num\">3&nbsp;&nbsp;</span>Training a word embedding on the sample comments</a></span></li><li><span><a href=\"#References\" data-toc-modified-id=\"References-4\"><span class=\"toc-item-num\">4&nbsp;&nbsp;</span>References</a></span></li></ul></div>"
   ]
  },
  {
   "cell_type": "markdown",
   "metadata": {},
   "source": [
    "# Dataset Loading and Exploration"
   ]
  },
  {
   "cell_type": "code",
   "execution_count": 1,
   "metadata": {},
   "outputs": [],
   "source": [
    "import glob\n",
    "import pandas as pd\n",
    "from datetime import datetime as dt\n",
    "from tqdm import tqdm"
   ]
  },
  {
   "cell_type": "code",
   "execution_count": 2,
   "metadata": {},
   "outputs": [
    {
     "data": {
      "text/plain": [
       "['.ipynb_checkpoints',\n",
       " 'CS515-Declutter.ipynb',\n",
       " 'declutter-gold_DevelopmentSet.csv',\n",
       " 'gitJabRef',\n",
       " 'JavaCommentsClassification',\n",
       " 'JavaCommentsClassification.tar']"
      ]
     },
     "execution_count": 2,
     "metadata": {},
     "output_type": "execute_result"
    }
   ],
   "source": [
    "import os\n",
    "os.listdir()"
   ]
  },
  {
   "cell_type": "markdown",
   "metadata": {},
   "source": [
    "## Declutter dataset"
   ]
  },
  {
   "cell_type": "markdown",
   "metadata": {},
   "source": [
    "We first explore the declutter dataset, a skeletal dataset consisting of nothing but the comment, the link to its source file with a line number, and its label. It consists of a thousand rows."
   ]
  },
  {
   "cell_type": "code",
   "execution_count": 46,
   "metadata": {},
   "outputs": [
    {
     "name": "stdout",
     "output_type": "stream",
     "text": [
      "1050\n"
     ]
    },
    {
     "data": {
      "text/html": [
       "<div>\n",
       "<style scoped>\n",
       "    .dataframe tbody tr th:only-of-type {\n",
       "        vertical-align: middle;\n",
       "    }\n",
       "\n",
       "    .dataframe tbody tr th {\n",
       "        vertical-align: top;\n",
       "    }\n",
       "\n",
       "    .dataframe thead th {\n",
       "        text-align: right;\n",
       "    }\n",
       "</style>\n",
       "<table border=\"1\" class=\"dataframe\">\n",
       "  <thead>\n",
       "    <tr style=\"text-align: right;\">\n",
       "      <th></th>\n",
       "      <th>ID</th>\n",
       "      <th>type</th>\n",
       "      <th>path_to_file</th>\n",
       "      <th>begin_line</th>\n",
       "      <th>link_to_comment</th>\n",
       "      <th>comment</th>\n",
       "      <th>non-information</th>\n",
       "    </tr>\n",
       "  </thead>\n",
       "  <tbody>\n",
       "    <tr>\n",
       "      <th>0</th>\n",
       "      <td>FR587</td>\n",
       "      <td>Javadoc</td>\n",
       "      <td>https://github.com/nnovielli/jabref/blob/maste...</td>\n",
       "      <td>151</td>\n",
       "      <td>https://github.com/nnovielli/jabref/blob/maste...</td>\n",
       "      <td>@implNote taken from {@link com.sun.javafx.sce...</td>\n",
       "      <td>yes</td>\n",
       "    </tr>\n",
       "    <tr>\n",
       "      <th>1</th>\n",
       "      <td>FR974</td>\n",
       "      <td>Line</td>\n",
       "      <td>https://github.com/nnovielli/jabref/blob/maste...</td>\n",
       "      <td>95</td>\n",
       "      <td>https://github.com/nnovielli/jabref/blob/maste...</td>\n",
       "      <td>icon.setToolTipText(printedViewModel.getLocali...</td>\n",
       "      <td>yes</td>\n",
       "    </tr>\n",
       "    <tr>\n",
       "      <th>2</th>\n",
       "      <td>FR1359</td>\n",
       "      <td>Line</td>\n",
       "      <td>https://github.com/nnovielli/jabref/blob/maste...</td>\n",
       "      <td>45</td>\n",
       "      <td>https://github.com/nnovielli/jabref/blob/maste...</td>\n",
       "      <td>Synchronize changes of the underlying date val...</td>\n",
       "      <td>no</td>\n",
       "    </tr>\n",
       "    <tr>\n",
       "      <th>3</th>\n",
       "      <td>FR30</td>\n",
       "      <td>Javadoc</td>\n",
       "      <td>https://github.com/nnovielli/jabref/blob/maste...</td>\n",
       "      <td>1102</td>\n",
       "      <td>https://github.com/nnovielli/jabref/blob/maste...</td>\n",
       "      <td>Ask if the user really wants to close the give...</td>\n",
       "      <td>yes</td>\n",
       "    </tr>\n",
       "    <tr>\n",
       "      <th>4</th>\n",
       "      <td>FR774</td>\n",
       "      <td>Block</td>\n",
       "      <td>https://github.com/nnovielli/jabref/blob/maste...</td>\n",
       "      <td>227</td>\n",
       "      <td>https://github.com/nnovielli/jabref/blob/maste...</td>\n",
       "      <td>css: information *</td>\n",
       "      <td>no</td>\n",
       "    </tr>\n",
       "  </tbody>\n",
       "</table>\n",
       "</div>"
      ],
      "text/plain": [
       "       ID     type                                       path_to_file  \\\n",
       "0   FR587  Javadoc  https://github.com/nnovielli/jabref/blob/maste...   \n",
       "1   FR974     Line  https://github.com/nnovielli/jabref/blob/maste...   \n",
       "2  FR1359     Line  https://github.com/nnovielli/jabref/blob/maste...   \n",
       "3    FR30  Javadoc  https://github.com/nnovielli/jabref/blob/maste...   \n",
       "4   FR774    Block  https://github.com/nnovielli/jabref/blob/maste...   \n",
       "\n",
       "   begin_line                                    link_to_comment  \\\n",
       "0         151  https://github.com/nnovielli/jabref/blob/maste...   \n",
       "1          95  https://github.com/nnovielli/jabref/blob/maste...   \n",
       "2          45  https://github.com/nnovielli/jabref/blob/maste...   \n",
       "3        1102  https://github.com/nnovielli/jabref/blob/maste...   \n",
       "4         227  https://github.com/nnovielli/jabref/blob/maste...   \n",
       "\n",
       "                                             comment non-information  \n",
       "0  @implNote taken from {@link com.sun.javafx.sce...             yes  \n",
       "1  icon.setToolTipText(printedViewModel.getLocali...             yes  \n",
       "2  Synchronize changes of the underlying date val...              no  \n",
       "3  Ask if the user really wants to close the give...             yes  \n",
       "4                                 css: information *              no  "
      ]
     },
     "execution_count": 46,
     "metadata": {},
     "output_type": "execute_result"
    }
   ],
   "source": [
    "declutter = pd.read_csv(\"declutter-gold_DevelopmentSet_orig.csv\")\n",
    "print(len(declutter))\n",
    "declutter.head()"
   ]
  },
  {
   "cell_type": "markdown",
   "metadata": {},
   "source": [
    "## Extracing more comments from the JabRef source code"
   ]
  },
  {
   "cell_type": "markdown",
   "metadata": {},
   "source": [
    "We feel it is possible to understand more about the comments if we can extract related information about whther they are about a specific class or not. "
   ]
  },
  {
   "cell_type": "code",
   "execution_count": 47,
   "metadata": {},
   "outputs": [
    {
     "name": "stdout",
     "output_type": "stream",
     "text": [
      "Read 1524 java source files from jabref repo. \n",
      "First 2 ['./gitjabref\\\\jabref\\\\src\\\\jmh\\\\java\\\\org\\\\jabref\\\\benchmarks\\\\Benchmarks.java', './gitjabref\\\\jabref\\\\src\\\\main\\\\java\\\\module-info.java']\n"
     ]
    }
   ],
   "source": [
    "allfiles = glob.glob(f'./gitjabref/**/*.java', recursive=True)\n",
    "print(f'Read {len(allfiles)} java source files from jabref repo. \\nFirst 2 {allfiles[:2]}')\n"
   ]
  },
  {
   "cell_type": "code",
   "execution_count": 48,
   "metadata": {
    "scrolled": true
   },
   "outputs": [
    {
     "name": "stdout",
     "output_type": "stream",
     "text": [
      "Read 1524 java source files from jabref source folder.\n"
     ]
    },
    {
     "data": {
      "text/plain": [
       "['.\\\\gitjabref\\\\jabref\\\\src\\\\jmh\\\\java\\\\org\\\\jabref\\\\benchmarks\\\\Benchmarks.java',\n",
       " '.\\\\gitjabref\\\\jabref\\\\src\\\\main\\\\java\\\\module-info.java']"
      ]
     },
     "execution_count": 48,
     "metadata": {},
     "output_type": "execute_result"
    }
   ],
   "source": [
    "srcfiles = glob.glob(f'.\\gitjabref\\jabref\\src/**/*.java', recursive=True)\n",
    "print(f'Read {len(srcfiles)} java source files from jabref source folder.')\n",
    "srcfiles[:2]"
   ]
  },
  {
   "cell_type": "markdown",
   "metadata": {},
   "source": [
    "We can see that all there are no source code files present outside the src folder."
   ]
  },
  {
   "cell_type": "code",
   "execution_count": 49,
   "metadata": {},
   "outputs": [
    {
     "name": "stdout",
     "output_type": "stream",
     "text": [
      "Read 450 java source files from jabref logic folder.\n"
     ]
    },
    {
     "data": {
      "text/plain": [
       "['D:\\\\Temp\\\\JavaCommentsClassification.tar\\\\gitJabRef\\\\jabref\\\\src\\\\main\\\\java\\\\org\\\\jabref\\\\logic\\\\TypedBibEntry.java',\n",
       " 'D:\\\\Temp\\\\JavaCommentsClassification.tar\\\\gitJabRef\\\\jabref\\\\src\\\\main\\\\java\\\\org\\\\jabref\\\\logic\\\\autosaveandbackup\\\\AutosaveManager.java']"
      ]
     },
     "execution_count": 49,
     "metadata": {},
     "output_type": "execute_result"
    }
   ],
   "source": [
    "logic = glob.glob(f'D:\\Temp\\JavaCommentsClassification.tar\\gitJabRef\\jabref\\src\\main\\java\\org\\jabref\\logic/**/*.java', recursive=True)\n",
    "print(f'Read {len(logic)} java source files from jabref logic folder.')\n",
    "logic[:2]"
   ]
  },
  {
   "cell_type": "markdown",
   "metadata": {},
   "source": [
    "We can see that 450 of the soruce code files are in the logic folder."
   ]
  },
  {
   "cell_type": "code",
   "execution_count": 50,
   "metadata": {},
   "outputs": [
    {
     "data": {
      "text/plain": [
       "1"
      ]
     },
     "execution_count": 50,
     "metadata": {},
     "output_type": "execute_result"
    }
   ],
   "source": [
    "li = ['cat','dog','boy']\n",
    "li.index('dog')"
   ]
  },
  {
   "cell_type": "markdown",
   "metadata": {},
   "source": [
    "### Code to extract comments from JabRef Source code along with their classes"
   ]
  },
  {
   "cell_type": "code",
   "execution_count": 41,
   "metadata": {},
   "outputs": [
    {
     "name": "stdout",
     "output_type": "stream",
     "text": [
      "2020-05-07 13:48:37.808850\n",
      "Source File: D:\\Temp\\JavaCommentsClassification.tar\\gitJabRef\\jabref\\src\\main\\java\\org\\jabref\\logic\\TypedBibEntry.java\n",
      "Comments start and end line numbers: [12, 14, 35, 39, 49, 51]\n",
      "/**\n",
      "\n",
      " */\n",
      "\n",
      "    /**\n",
      "\n",
      "     */\n",
      "\n",
      "    /**\n",
      "\n",
      "     */\n",
      "\n",
      "public class TypedBibEntry {\n",
      "\n",
      "    public boolean hasAllRequiredFields(BibEntryTypesManager entryTypesManager) {\n",
      "\n",
      "    public String getTypeForDisplay() {\n",
      "\n",
      "time taken:0:00:00.005943\n"
     ]
    }
   ],
   "source": [
    "start = dt.now()\n",
    "print(start) \n",
    "# test\n",
    "\n",
    "for file in logic[:1]:\n",
    "    linenos = []\n",
    "    classname = []\n",
    "    with open(file) as reader:\n",
    "        lines = reader.readlines()\n",
    "        counter = 0\n",
    "        for line in lines:       \n",
    "            if line.find(\"/*\") >= 0:\n",
    "                linenos.append(counter)\n",
    "            if line.find(\"*/\") >= 0:\n",
    "                linenos.append(counter)\n",
    "            counter += 1\n",
    "            if line.find(\"*/\") >= 0:\n",
    "                classname.append(counter)\n",
    "            \n",
    "            \n",
    "\n",
    "print(f'Source File: {file}')\n",
    "print(f'Comments start and end line numbers: {linenos}')\n",
    "for n in linenos:\n",
    "    print(lines[n])\n",
    "\n",
    "for n in classname:\n",
    "    print(lines[n])\n",
    "print(f'time taken:{dt.now()-start}') "
   ]
  },
  {
   "cell_type": "markdown",
   "metadata": {},
   "source": [
    "#### Helper functions"
   ]
  },
  {
   "cell_type": "code",
   "execution_count": 42,
   "metadata": {},
   "outputs": [],
   "source": [
    "def print_lineNos(files):\n",
    "    start = dt.now()\n",
    "    print(start) \n",
    "    # test\n",
    "    for file in files:\n",
    "        print(f'\\n\\n{file}:\\n\\n')\n",
    "        with open(file) as reader:\n",
    "            lines = reader.readlines()\n",
    "            for (number, line) in enumerate(lines):\n",
    "                comment = []\n",
    "                print(number,line.strip())\n",
    "    print(f'time taken:{dt.now()-start}') "
   ]
  },
  {
   "cell_type": "code",
   "execution_count": 12,
   "metadata": {},
   "outputs": [
    {
     "name": "stdout",
     "output_type": "stream",
     "text": [
      "2020-05-06 13:45:58.321244\n",
      "\n",
      "\n",
      "D:\\Temp\\JavaCommentsClassification.tar\\gitJabRef\\jabref\\src\\main\\java\\org\\jabref\\logic\\TypedBibEntry.java:\n",
      "\n",
      "\n",
      "0 package org.jabref.logic;\n",
      "1 \n",
      "2 import java.util.Objects;\n",
      "3 import java.util.Optional;\n",
      "4 \n",
      "5 import org.jabref.model.database.BibDatabase;\n",
      "6 import org.jabref.model.database.BibDatabaseContext;\n",
      "7 import org.jabref.model.database.BibDatabaseMode;\n",
      "8 import org.jabref.model.entry.BibEntry;\n",
      "9 import org.jabref.model.entry.BibEntryType;\n",
      "10 import org.jabref.model.entry.BibEntryTypesManager;\n",
      "11 \n",
      "12 /**\n",
      "13 * Wrapper around a {@link BibEntry} offering methods for {@link BibDatabaseMode} dependend results\n",
      "14 */\n",
      "15 public class TypedBibEntry {\n",
      "16 \n",
      "17 private final BibEntry entry;\n",
      "18 private final Optional<BibDatabase> database;\n",
      "19 private final BibDatabaseMode mode;\n",
      "20 \n",
      "21 public TypedBibEntry(BibEntry entry, BibDatabaseMode mode) {\n",
      "22 this(entry, Optional.empty(), mode);\n",
      "23 }\n",
      "24 \n",
      "25 private TypedBibEntry(BibEntry entry, Optional<BibDatabase> database, BibDatabaseMode mode) {\n",
      "26 this.entry = Objects.requireNonNull(entry);\n",
      "27 this.database = Objects.requireNonNull(database);\n",
      "28 this.mode = mode;\n",
      "29 }\n",
      "30 \n",
      "31 public TypedBibEntry(BibEntry entry, BibDatabaseContext databaseContext) {\n",
      "32 this(entry, Optional.of(databaseContext.getDatabase()), databaseContext.getMode());\n",
      "33 }\n",
      "34 \n",
      "35 /**\n",
      "36 * Returns true if this entry contains the fields it needs to be\n",
      "37 * complete.\n",
      "38 * @param entryTypesManager\n",
      "39 */\n",
      "40 public boolean hasAllRequiredFields(BibEntryTypesManager entryTypesManager) {\n",
      "41 Optional<BibEntryType> type = entryTypesManager.enrich(entry.getType(), this.mode);\n",
      "42 if (type.isPresent()) {\n",
      "43 return entry.allFieldsPresent(type.get().getRequiredFields(), database.orElse(null));\n",
      "44 } else {\n",
      "45 return true;\n",
      "46 }\n",
      "47 }\n",
      "48 \n",
      "49 /**\n",
      "50 * Gets the display name for the type of the entry.\n",
      "51 */\n",
      "52 public String getTypeForDisplay() {\n",
      "53 return entry.getType().getDisplayName();\n",
      "54 }\n",
      "55 }\n",
      "time taken:0:00:00.015148\n"
     ]
    }
   ],
   "source": [
    "print_lineNos(logic[:1])"
   ]
  },
  {
   "cell_type": "code",
   "execution_count": 13,
   "metadata": {},
   "outputs": [],
   "source": [
    "import matplotlib.pyplot as plt #maybe plot number of source files per directory"
   ]
  },
  {
   "cell_type": "markdown",
   "metadata": {},
   "source": [
    "[Count plot ref](https://stackoverflow.com/questions/2632205/how-to-count-the-number-of-files-in-a-directory-using-python)"
   ]
  },
  {
   "cell_type": "code",
   "execution_count": 14,
   "metadata": {},
   "outputs": [
    {
     "data": {
      "text/plain": [
       "{'.ipynb_checkpoints': 3, 'gitJabRef': 3, 'JavaCommentsClassification': 3}"
      ]
     },
     "execution_count": 14,
     "metadata": {},
     "output_type": "execute_result"
    }
   ],
   "source": [
    "counts = {}\n",
    "for x in os.listdir():\n",
    "    if(not os.path.isfile(x)):   #is a directory\n",
    "        #count number of files in the directory.\n",
    "        counts[x] = len([y for y  in os.listdir() if os.path.isfile(y) and str(y).find(\".java\")])\n",
    "counts"
   ]
  },
  {
   "cell_type": "markdown",
   "metadata": {},
   "source": [
    "## Supplementary Dataset (from Ref2: Classifying code comments in Java)\n"
   ]
  },
  {
   "cell_type": "markdown",
   "metadata": {},
   "source": [
    "Writing a class to read the comments into, if required"
   ]
  },
  {
   "cell_type": "code",
   "execution_count": 66,
   "metadata": {},
   "outputs": [],
   "source": [
    "class Comment:\n",
    "    def __init__(self, id = 0,path = \"\",text = \"\"):\n",
    "        self.id = id\n",
    "        self.path = path     \n",
    "        self.text = \"\"\n",
    "    def __repr__(self):\n",
    "        return f'Comment object with id={self.id},path = {self.path}, and text = {self.text}'"
   ]
  },
  {
   "cell_type": "code",
   "execution_count": 67,
   "metadata": {},
   "outputs": [
    {
     "data": {
      "text/plain": [
       "Comment object with id=1003,path = ., and text = "
      ]
     },
     "execution_count": 67,
     "metadata": {},
     "output_type": "execute_result"
    }
   ],
   "source": [
    "Comment(1003,text = \"/TODO autogen block\",path=\".\")"
   ]
  },
  {
   "cell_type": "markdown",
   "metadata": {},
   "source": [
    "Exploring the dataset"
   ]
  },
  {
   "cell_type": "code",
   "execution_count": 73,
   "metadata": {},
   "outputs": [],
   "source": [
    "automatic_ide_comments_path = \"D:/Temp/JavaCommentsClassification.tar/JavaCommentsClassification/List of comments/cat/automatic generated by ide\" \n",
    "os.chdir(automatic_ide_comments_path)"
   ]
  },
  {
   "cell_type": "code",
   "execution_count": 74,
   "metadata": {},
   "outputs": [
    {
     "name": "stdout",
     "output_type": "stream",
     "text": [
      "0 out of 205 processed 1003.txt // TODO Auto-generated catch block\n",
      "1 out of 205 processed 10040.txt      * (non-Javadoc)\n",
      "2 out of 205 processed 10041.txt      * (non-Javadoc)\n",
      "3 out of 205 processed 10042.txt      * (non-Javadoc)\n",
      "4 out of 205 processed 10043.txt      * (non-Javadoc)\n",
      "5 out of 205 processed 10044.txt      * (non-Javadoc)\n",
      "6 out of 205 processed 10096.txt     /* (non-Javadoc)\n",
      "7 out of 205 processed 10115.txt \t\t/* (non-Javadoc)\n",
      "8 out of 205 processed 10116.txt \t\t/* (non-Javadoc)\n",
      "9 out of 205 processed 10117.txt \t\t/* (non-Javadoc)\n",
      "10 out of 205 processed 10118.txt \t\t/* (non-Javadoc)\n",
      "11 out of 205 processed 10119.txt \t\t/* (non-Javadoc)\n",
      "12 out of 205 processed 10120.txt \t\t/* (non-Javadoc)\n",
      "13 out of 205 processed 10288.txt \t/* (non-Javadoc)\n",
      "14 out of 205 processed 10289.txt \t/* (non-Javadoc)\n",
      "15 out of 205 processed 10290.txt \t\t\t\t// TODO Auto-generated method stub\n",
      "16 out of 205 processed 10291.txt \t\t\t\t// TODO Auto-generated method stub\n",
      "17 out of 205 processed 10384.txt \t/* (non-Javadoc)\n",
      "18 out of 205 processed 10385.txt \t/* (non-Javadoc)\n",
      "19 out of 205 processed 10386.txt \t/* (non-Javadoc)\n",
      "20 out of 205 processed 10387.txt \t/* (non-Javadoc)\n",
      "21 out of 205 processed 10388.txt \t/* (non-Javadoc)\n",
      "22 out of 205 processed 10389.txt \t/* (non-Javadoc)\n",
      "23 out of 205 processed 10390.txt \t/* (non-Javadoc)\n",
      "24 out of 205 processed 10473.txt      * (non-Javadoc)\n",
      "25 out of 205 processed 10634.txt \t/* (non-Javadoc)\n",
      "26 out of 205 processed 10635.txt \t/* (non-Javadoc)\n",
      "27 out of 205 processed 10636.txt \t/* (non-Javadoc)\n",
      "28 out of 205 processed 10637.txt \t/* (non-Javadoc)\n",
      "29 out of 205 processed 10638.txt \t/* (non-Javadoc)\n",
      "30 out of 205 processed 10639.txt \t/* (non-Javadoc)\n",
      "31 out of 205 processed 10640.txt \t/* (non-Javadoc)\n",
      "32 out of 205 processed 10982.txt     /* (non-Javadoc)\n",
      "33 out of 205 processed 10983.txt     /* (non-Javadoc)\n",
      "34 out of 205 processed 1803.txt (non-Javadoc)\n",
      "35 out of 205 processed 1804.txt \t/* (non-Javadoc)\n",
      "36 out of 205 processed 1805.txt \t * (non-Javadoc)\n",
      "37 out of 205 processed 1806.txt \t * (non-Javadoc)\n",
      "38 out of 205 processed 1807.txt \t * (non-Javadoc)\n",
      "39 out of 205 processed 1885.txt (non-Javadoc)\n",
      "40 out of 205 processed 1886.txt  (non-Javadoc)\n",
      "41 out of 205 processed 1887.txt (non-Javadoc)\n",
      "42 out of 205 processed 1888.txt (non-Javadoc)\n",
      "43 out of 205 processed 1889.txt (non-Javadoc)\n",
      "44 out of 205 processed 2131.txt (non-Javadoc)\n",
      "45 out of 205 processed 2261.txt (non-Javadoc)\n",
      "46 out of 205 processed 2535.txt (non-Javadoc)\n",
      "47 out of 205 processed 2536.txt  (non-Javadoc)\n",
      "48 out of 205 processed 2537.txt (non-Javadoc)\n",
      "49 out of 205 processed 2763.txt         // TODO Auto-generated method stub\n",
      "50 out of 205 processed 2791.txt (non-Javadoc)\n",
      "51 out of 205 processed 2834.txt (non-Javadoc)\n",
      "52 out of 205 processed 2835.txt (non-Javadoc)\n",
      "53 out of 205 processed 2836.txt (non-Javadoc)\n",
      "54 out of 205 processed 2845.txt (non-Javadoc)\n",
      "55 out of 205 processed 3190.txt (non-Javadoc)\n",
      "56 out of 205 processed 3253.txt (non-Javadoc)\n",
      "57 out of 205 processed 3254.txt (non-Javadoc)\n",
      "58 out of 205 processed 3255.txt (non-Javadoc)\n",
      "59 out of 205 processed 3256.txt (non-Javadoc)\n",
      "60 out of 205 processed 3573.txt (non-Javadoc)\n",
      "61 out of 205 processed 3574.txt (non-Javadoc)\n",
      "62 out of 205 processed 3625.txt (non-Javadoc)\n",
      "63 out of 205 processed 3626.txt (non-Javadoc)\n",
      "64 out of 205 processed 3627.txt  (non-Javadoc)\n",
      "65 out of 205 processed 4417.txt (non-Javadoc)\n",
      "66 out of 205 processed 4418.txt (non-Javadoc)\n",
      "67 out of 205 processed 4419.txt (non-Javadoc)\n",
      "68 out of 205 processed 4420.txt  (non-Javadoc)\n",
      "69 out of 205 processed 4421.txt (non-Javadoc)\n",
      "70 out of 205 processed 4422.txt  (non-Javadoc)\n",
      "71 out of 205 processed 4423.txt (non-Javadoc)\n",
      "72 out of 205 processed 4458.txt         // TODO Auto-generated method stub\n",
      "73 out of 205 processed 4562.txt \t\t// TODO Auto-generated method stub\n",
      "74 out of 205 processed 4563.txt \t\t// TODO Auto-generated method stub\n",
      "75 out of 205 processed 4564.txt \t\t// TODO Auto-generated method stub\n",
      "76 out of 205 processed 4565.txt \t\t// TODO Auto-generated method stub\n",
      "77 out of 205 processed 4566.txt \t\t// TODO Auto-generated method stub\n",
      "78 out of 205 processed 4648.txt (non-Javadoc)\n",
      "79 out of 205 processed 4649.txt (non-Javadoc)\n",
      "80 out of 205 processed 4650.txt  (non-Javadoc)\n",
      "81 out of 205 processed 4651.txt (non-Javadoc)\n",
      "82 out of 205 processed 4652.txt  (non-Javadoc)\n",
      "83 out of 205 processed 4653.txt (non-Javadoc)\n",
      "84 out of 205 processed 4654.txt (non-Javadoc)\n",
      "85 out of 205 processed 4657.txt (non-Javadoc)\n",
      "86 out of 205 processed 4804.txt \t\t// TODO Auto-generated method stub\n",
      "87 out of 205 processed 4819.txt \t\t// TODO Auto-generated method stub\n",
      "88 out of 205 processed 4946.txt (non-Javadoc)\n",
      "89 out of 205 processed 4947.txt (non-Javadoc)\n",
      "90 out of 205 processed 4948.txt (non-Javadoc)\n",
      "91 out of 205 processed 4949.txt (non-Javadoc)\n",
      "92 out of 205 processed 5046.txt (non-Javadoc)\n",
      "93 out of 205 processed 5082.txt (non-Javadoc)\n",
      "94 out of 205 processed 5083.txt (non-Javadoc)\n",
      "95 out of 205 processed 5084.txt (non-Javadoc)\n",
      "96 out of 205 processed 5085.txt (non-Javadoc)\n",
      "97 out of 205 processed 5086.txt (non-Javadoc)\n",
      "98 out of 205 processed 5418.txt (non-Javadoc)\n",
      "99 out of 205 processed 5419.txt (non-Javadoc)\n",
      "100 out of 205 processed 5420.txt (non-Javadoc)\n",
      "101 out of 205 processed 5421.txt (non-Javadoc)\n",
      "102 out of 205 processed 5461.txt (non-Javadoc)\n",
      "103 out of 205 processed 5462.txt (non-Javadoc)\n",
      "104 out of 205 processed 5463.txt (non-Javadoc)\n",
      "105 out of 205 processed 5551.txt (non-Javadoc)\n",
      "106 out of 205 processed 5552.txt (non-Javadoc)\n",
      "107 out of 205 processed 5553.txt (non-Javadoc)\n",
      "108 out of 205 processed 5554.txt (non-Javadoc)\n",
      "109 out of 205 processed 5555.txt (non-Javadoc)\n",
      "110 out of 205 processed 5556.txt (non-Javadoc)\n",
      "111 out of 205 processed 5557.txt (non-Javadoc)\n",
      "112 out of 205 processed 5558.txt (non-Javadoc)\n",
      "113 out of 205 processed 5716.txt (non-Javadoc)\n",
      "114 out of 205 processed 5717.txt (non-Javadoc)\n",
      "115 out of 205 processed 5718.txt (non-Javadoc)\n",
      "116 out of 205 processed 5719.txt (non-Javadoc)\n",
      "117 out of 205 processed 5800.txt                 // TODO Auto-generated catch block\n",
      "118 out of 205 processed 5801.txt                 // TODO Auto-generated catch block\n",
      "119 out of 205 processed 5805.txt                 // TODO Auto-generated catch block\n",
      "120 out of 205 processed 6288.txt         // TODO Auto-generated method stub\n",
      "121 out of 205 processed 6289.txt (non-Javadoc)\n",
      "122 out of 205 processed 6540.txt (non-Javadoc)\n",
      "123 out of 205 processed 6867.txt (non-Javadoc)\n",
      "124 out of 205 processed 6868.txt (non-Javadoc)\n",
      "125 out of 205 processed 6869.txt (non-Javadoc)\n",
      "126 out of 205 processed 6870.txt (non-Javadoc)\n",
      "127 out of 205 processed 6994.txt (non-Javadoc)\n",
      "128 out of 205 processed 7443.txt  (non-Javadoc)\n",
      "129 out of 205 processed 7458.txt  (non-javadoc)\n",
      "130 out of 205 processed 7593.txt  (non-Javadoc)\n",
      "131 out of 205 processed 7608.txt  (non-javadoc)\n",
      "132 out of 205 processed 8292.txt (non-Javadoc)\n",
      "133 out of 205 processed 8447.txt \t\t\t// TODO Auto-generated catch block\n",
      "134 out of 205 processed 8448.txt \t\t\t// TODO Auto-generated catch block\n",
      "135 out of 205 processed 8499.txt (non-Javadoc)\n",
      "136 out of 205 processed 8502.txt (non-Javadoc)\n",
      "137 out of 205 processed 8628.txt      * (non-Javadoc)\n",
      "138 out of 205 processed 8629.txt      * (non-Javadoc)\n",
      "139 out of 205 processed 8630.txt      * (non-Javadoc)\n",
      "140 out of 205 processed 8631.txt      * (non-Javadoc)\n",
      "141 out of 205 processed 8632.txt      * (non-Javadoc)\n",
      "142 out of 205 processed 8633.txt      * (non-Javadoc)\n",
      "143 out of 205 processed 8634.txt      * (non-Javadoc)\n",
      "144 out of 205 processed 8635.txt      * (non-Javadoc)\n",
      "145 out of 205 processed 8636.txt      * (non-Javadoc)\n",
      "146 out of 205 processed 8637.txt      * (non-Javadoc)\n",
      "147 out of 205 processed 8638.txt      * (non-Javadoc)\n",
      "148 out of 205 processed 8639.txt      * (non-Javadoc)\n",
      "149 out of 205 processed 8640.txt      * (non-Javadoc)\n",
      "150 out of 205 processed 8641.txt      * (non-Javadoc)\n",
      "151 out of 205 processed 8642.txt      * (non-Javadoc)\n",
      "152 out of 205 processed 8643.txt      * (non-Javadoc)\n",
      "153 out of 205 processed 8644.txt      * (non-Javadoc)\n",
      "154 out of 205 processed 8645.txt      * (non-Javadoc)\n",
      "155 out of 205 processed 8646.txt      * (non-Javadoc)\n",
      "156 out of 205 processed 8647.txt      * (non-Javadoc)\n",
      "157 out of 205 processed 8648.txt      * (non-Javadoc)\n",
      "158 out of 205 processed 8649.txt      * (non-Javadoc)\n",
      "159 out of 205 processed 8650.txt      * (non-Javadoc)\n",
      "160 out of 205 processed 8651.txt      * (non-Javadoc)\n",
      "161 out of 205 processed 8652.txt      * (non-Javadoc)\n",
      "162 out of 205 processed 8653.txt      * (non-Javadoc)\n",
      "163 out of 205 processed 8654.txt      * (non-Javadoc)\n",
      "164 out of 205 processed 8655.txt      * (non-Javadoc)\n",
      "165 out of 205 processed 8656.txt      * (non-Javadoc)\n",
      "166 out of 205 processed 8657.txt      * (non-Javadoc)\n",
      "167 out of 205 processed 8658.txt      * (non-Javadoc)\n",
      "168 out of 205 processed 8659.txt      * (non-Javadoc)\n",
      "169 out of 205 processed 8660.txt      * (non-Javadoc)\n",
      "170 out of 205 processed 8661.txt      * (non-Javadoc)\n",
      "171 out of 205 processed 8662.txt      * (non-Javadoc)\n",
      "172 out of 205 processed 8663.txt      * (non-Javadoc)\n",
      "173 out of 205 processed 8664.txt      * (non-Javadoc)\n",
      "174 out of 205 processed 8665.txt      * (non-Javadoc)\n",
      "175 out of 205 processed 8666.txt      * (non-Javadoc)\n",
      "176 out of 205 processed 8667.txt      * (non-Javadoc)\n",
      "177 out of 205 processed 8668.txt      * (non-Javadoc)\n",
      "178 out of 205 processed 8669.txt      * (non-Javadoc)\n",
      "179 out of 205 processed 8670.txt      * (non-Javadoc)\n",
      "180 out of 205 processed 8671.txt      * (non-Javadoc)\n",
      "181 out of 205 processed 8672.txt      * (non-Javadoc)\n",
      "182 out of 205 processed 8673.txt      * (non-Javadoc)\n",
      "183 out of 205 processed 8674.txt      * (non-Javadoc)\n",
      "184 out of 205 processed 8675.txt      * (non-Javadoc)\n",
      "185 out of 205 processed 8676.txt      * (non-Javadoc)\n",
      "186 out of 205 processed 8677.txt      * (non-Javadoc)\n",
      "187 out of 205 processed 8678.txt      * (non-Javadoc)\n",
      "188 out of 205 processed 8681.txt \t * (non-Javadoc)\n",
      "189 out of 205 processed 8682.txt \t * (non-Javadoc)\n",
      "190 out of 205 processed 8747.txt (non-Javadoc)\n",
      "191 out of 205 processed 8820.txt     /* (non-Javadoc)\n",
      "192 out of 205 processed 8821.txt     /* (non-Javadoc)\n",
      "193 out of 205 processed 9210.txt (non-Javadoc)\n",
      "194 out of 205 processed 9662.txt \t\t// TODO Auto-generated method stub\n",
      "195 out of 205 processed 9731.txt \t/* (non-Javadoc)\n",
      "196 out of 205 processed 9732.txt \t/* (non-Javadoc)\n",
      "197 out of 205 processed 9733.txt \t/* (non-Javadoc)\n",
      "198 out of 205 processed 9734.txt \t/* (non-Javadoc)\n",
      "199 out of 205 processed 9735.txt \t/* (non-Javadoc)\n"
     ]
    },
    {
     "name": "stdout",
     "output_type": "stream",
     "text": [
      "200 out of 205 processed 9736.txt \t/* (non-Javadoc)\n",
      "201 out of 205 processed 980.txt // TODO Auto-generated method stub\n",
      "202 out of 205 processed 9835.txt     /* (non-Javadoc)\n",
      "203 out of 205 processed 9836.txt     /* (non-Javadoc)\n",
      "204 out of 205 processed 9837.txt     /* (non-Javadoc)\n"
     ]
    }
   ],
   "source": [
    "idecomments = []\n",
    "counter = 0\n",
    "total_files = len(os.listdir())\n",
    "for file in os.listdir():\n",
    "    if os.path.isfile(file):\n",
    "        with open(file) as reader:\n",
    "            text = reader.read().replace(\"\\n\",\" \")\n",
    "            #commentsdict[file.split(\".txt\")[0]] = \n",
    "            print(f'{counter} out of {total_files} processed',file,text)\n",
    "            idecomments.append(str(text))\n",
    "    counter += 1\n",
    "        "
   ]
  },
  {
   "cell_type": "code",
   "execution_count": 26,
   "metadata": {},
   "outputs": [
    {
     "data": {
      "text/plain": [
       "['// TODO Auto-generated catch block',\n",
       " '     * (non-Javadoc)',\n",
       " '     * (non-Javadoc)',\n",
       " '     * (non-Javadoc)',\n",
       " '     * (non-Javadoc)']"
      ]
     },
     "execution_count": 26,
     "metadata": {},
     "output_type": "execute_result"
    }
   ],
   "source": [
    "idecomments"
   ]
  },
  {
   "cell_type": "code",
   "execution_count": 69,
   "metadata": {},
   "outputs": [],
   "source": [
    "turtle_comments_path = \"D:\\Temp\\JavaCommentsClassification.tar/JavaCommentsClassification/List of comments/cat/turtle\"\n",
    "os.chdir(turtle_comments_path)"
   ]
  },
  {
   "cell_type": "code",
   "execution_count": 70,
   "metadata": {},
   "outputs": [
    {
     "name": "stdout",
     "output_type": "stream",
     "text": [
      "0 out of 20 processed 1419.txt   // Ditto\n",
      "1 out of 20 processed 1802.txt // Nothing\n",
      "2 out of 20 processed 1968.txt #DEPTH_*\n",
      "3 out of 20 processed 2570.txt /**  * COMMIT3 Response  */\n",
      "4 out of 20 processed 2806.txt \t\t// nothing\n",
      "5 out of 20 processed 4267.txt // Tool\n",
      "6 out of 20 processed 4390.txt // Tool\n",
      "7 out of 20 processed 6393.txt  $NON-NLS-2$ $NON-NLS-3$\n",
      "8 out of 20 processed 6399.txt  $NON-NLS-2$ $NON-NLS-3$\n",
      "9 out of 20 processed 6411.txt $NON-NLS-2$ $NON-NLS-3$\n",
      "10 out of 20 processed 8796.txt //#ifdef exercises\n",
      "11 out of 20 processed 8797.txt //#else\n",
      "12 out of 20 processed 8798.txt //#package org.eclipse.cdt.examples.dsf.dataviewer.answers;\n",
      "13 out of 20 processed 8799.txt //#endif\n",
      "14 out of 20 processed 9179.txt //#ifdef exercises\n",
      "15 out of 20 processed 9180.txt //#else\n",
      "16 out of 20 processed 9181.txt //#package org.eclipse.cdt.examples.dsf.dataviewer.answers;\n",
      "17 out of 20 processed 9182.txt //#endif\n",
      "18 out of 20 processed 990.txt // good\n",
      "19 out of 20 processed 993.txt // PASS\n"
     ]
    }
   ],
   "source": [
    "turtlecomments = []\n",
    "counter = 0\n",
    "total_files = len(os.listdir())\n",
    "for file in os.listdir():\n",
    "    if os.path.isfile(file):\n",
    "        with open(file) as reader:\n",
    "            text = reader.read().replace(\"\\n\",\" \")\n",
    "            #commentsdict[file.split(\".txt\")[0]] = \n",
    "            print(f'{counter} out of {total_files} processed',file,text)\n",
    "            turtlecomments.append(str(text))\n",
    "    counter += 1\n",
    "        "
   ]
  },
  {
   "cell_type": "code",
   "execution_count": 79,
   "metadata": {
    "scrolled": true
   },
   "outputs": [
    {
     "data": {
      "text/plain": [
       "['  // Ditto',\n",
       " '// Nothing',\n",
       " '#DEPTH_*',\n",
       " '/**  * COMMIT3 Response  */',\n",
       " '\\t\\t// nothing']"
      ]
     },
     "execution_count": 79,
     "metadata": {},
     "output_type": "execute_result"
    }
   ],
   "source": [
    "turtlecomments[:5]"
   ]
  },
  {
   "cell_type": "code",
   "execution_count": 81,
   "metadata": {},
   "outputs": [],
   "source": [
    "import csv\n",
    "os.chdir('D:\\Temp\\JavaCommentsClassification.tar')\n",
    "counter = 0\n",
    "with open(\"turtle_comments.csv\",\"w+\") as csvfile:\n",
    "    fieldnames = ['index', 'comment',\"non-information\"]\n",
    "    writer = csv.DictWriter(csvfile, fieldnames=fieldnames)\n",
    "    writer.writeheader()\n",
    "    for comment in turtlecomments:\n",
    "        writer.writerow({'index': counter, 'comment': comment,'non-information': \"yes\"})\n",
    "        counter += 1\n"
   ]
  },
  {
   "cell_type": "code",
   "execution_count": 52,
   "metadata": {},
   "outputs": [],
   "source": [
    "all_comments_path = \"D:/Temp/JavaCommentsClassification.tar/JavaCommentsClassification/List of comments/int\"\n",
    "os.chdir(all_comments_path)"
   ]
  },
  {
   "cell_type": "code",
   "execution_count": null,
   "metadata": {},
   "outputs": [],
   "source": [
    "# commentsdict = {}\n",
    "# allcomments = []\n",
    "# counter = 0\n",
    "# total_files = len(os.listdir())\n",
    "# for file in os.listdir():\n",
    "#     if os.path.isfile(file):\n",
    "#         with open(file) as reader:\n",
    "#             text = reader.read().replace(\"\\n\",\" \")\n",
    "#             #commentsdict[file.split(\".txt\")[0]] = \n",
    "#             print(f'{counter} out of {total_files} processed',file,text)\n",
    "#             allcomments.append(str(text))\n",
    "#         counter += 1\n",
    "        "
   ]
  },
  {
   "cell_type": "code",
   "execution_count": 75,
   "metadata": {},
   "outputs": [],
   "source": [
    "import csv\n",
    "os.chdir('D:\\Temp\\JavaCommentsClassification.tar')\n",
    "counter = 0\n",
    "with open(\"autogen_comments.csv\",\"w+\") as csvfile:\n",
    "    fieldnames = ['index', 'comment',\"non-information\"]\n",
    "    writer = csv.DictWriter(csvfile, fieldnames=fieldnames)\n",
    "    writer.writeheader()\n",
    "    for comment in idecomments:\n",
    "        writer.writerow({'index': counter, 'comment': comment,'non-information': \"yes\"})\n",
    "        counter += 1\n"
   ]
  },
  {
   "cell_type": "code",
   "execution_count": 71,
   "metadata": {},
   "outputs": [
    {
     "name": "stdout",
     "output_type": "stream",
     "text": [
      "range(4, 10)\n",
      "range(10, 14)\n"
     ]
    }
   ],
   "source": []
  },
  {
   "cell_type": "markdown",
   "metadata": {},
   "source": [
    "# Data Merging and Cleaning"
   ]
  },
  {
   "cell_type": "markdown",
   "metadata": {},
   "source": [
    "Once we labelled and extracted the comments from the supplementary dataset, we manually appended the new observations and their labels into the declutter dataset. Let us see what it looks like now"
   ]
  },
  {
   "cell_type": "code",
   "execution_count": 43,
   "metadata": {},
   "outputs": [
    {
     "data": {
      "text/html": [
       "<div>\n",
       "<style scoped>\n",
       "    .dataframe tbody tr th:only-of-type {\n",
       "        vertical-align: middle;\n",
       "    }\n",
       "\n",
       "    .dataframe tbody tr th {\n",
       "        vertical-align: top;\n",
       "    }\n",
       "\n",
       "    .dataframe thead th {\n",
       "        text-align: right;\n",
       "    }\n",
       "</style>\n",
       "<table border=\"1\" class=\"dataframe\">\n",
       "  <thead>\n",
       "    <tr style=\"text-align: right;\">\n",
       "      <th></th>\n",
       "      <th>ID</th>\n",
       "      <th>type</th>\n",
       "      <th>path_to_file</th>\n",
       "      <th>begin_line</th>\n",
       "      <th>link_to_comment</th>\n",
       "      <th>comment</th>\n",
       "      <th>non-information</th>\n",
       "    </tr>\n",
       "  </thead>\n",
       "  <tbody>\n",
       "    <tr>\n",
       "      <th>0</th>\n",
       "      <td>FR587</td>\n",
       "      <td>Javadoc</td>\n",
       "      <td>https://github.com/nnovielli/jabref/blob/maste...</td>\n",
       "      <td>151.0</td>\n",
       "      <td>https://github.com/nnovielli/jabref/blob/maste...</td>\n",
       "      <td>@implNote taken from {@link com.sun.javafx.sce...</td>\n",
       "      <td>yes</td>\n",
       "    </tr>\n",
       "    <tr>\n",
       "      <th>1</th>\n",
       "      <td>FR974</td>\n",
       "      <td>Line</td>\n",
       "      <td>https://github.com/nnovielli/jabref/blob/maste...</td>\n",
       "      <td>95.0</td>\n",
       "      <td>https://github.com/nnovielli/jabref/blob/maste...</td>\n",
       "      <td>icon.setToolTipText(printedViewModel.getLocali...</td>\n",
       "      <td>yes</td>\n",
       "    </tr>\n",
       "    <tr>\n",
       "      <th>2</th>\n",
       "      <td>FR1359</td>\n",
       "      <td>Line</td>\n",
       "      <td>https://github.com/nnovielli/jabref/blob/maste...</td>\n",
       "      <td>45.0</td>\n",
       "      <td>https://github.com/nnovielli/jabref/blob/maste...</td>\n",
       "      <td>Synchronize changes of the underlying date val...</td>\n",
       "      <td>no</td>\n",
       "    </tr>\n",
       "    <tr>\n",
       "      <th>3</th>\n",
       "      <td>FR30</td>\n",
       "      <td>Javadoc</td>\n",
       "      <td>https://github.com/nnovielli/jabref/blob/maste...</td>\n",
       "      <td>1102.0</td>\n",
       "      <td>https://github.com/nnovielli/jabref/blob/maste...</td>\n",
       "      <td>Ask if the user really wants to close the give...</td>\n",
       "      <td>yes</td>\n",
       "    </tr>\n",
       "    <tr>\n",
       "      <th>4</th>\n",
       "      <td>FR774</td>\n",
       "      <td>Block</td>\n",
       "      <td>https://github.com/nnovielli/jabref/blob/maste...</td>\n",
       "      <td>227.0</td>\n",
       "      <td>https://github.com/nnovielli/jabref/blob/maste...</td>\n",
       "      <td>css: information *</td>\n",
       "      <td>no</td>\n",
       "    </tr>\n",
       "  </tbody>\n",
       "</table>\n",
       "</div>"
      ],
      "text/plain": [
       "       ID     type                                       path_to_file  \\\n",
       "0   FR587  Javadoc  https://github.com/nnovielli/jabref/blob/maste...   \n",
       "1   FR974     Line  https://github.com/nnovielli/jabref/blob/maste...   \n",
       "2  FR1359     Line  https://github.com/nnovielli/jabref/blob/maste...   \n",
       "3    FR30  Javadoc  https://github.com/nnovielli/jabref/blob/maste...   \n",
       "4   FR774    Block  https://github.com/nnovielli/jabref/blob/maste...   \n",
       "\n",
       "   begin_line                                    link_to_comment  \\\n",
       "0       151.0  https://github.com/nnovielli/jabref/blob/maste...   \n",
       "1        95.0  https://github.com/nnovielli/jabref/blob/maste...   \n",
       "2        45.0  https://github.com/nnovielli/jabref/blob/maste...   \n",
       "3      1102.0  https://github.com/nnovielli/jabref/blob/maste...   \n",
       "4       227.0  https://github.com/nnovielli/jabref/blob/maste...   \n",
       "\n",
       "                                             comment non-information  \n",
       "0  @implNote taken from {@link com.sun.javafx.sce...             yes  \n",
       "1  icon.setToolTipText(printedViewModel.getLocali...             yes  \n",
       "2  Synchronize changes of the underlying date val...              no  \n",
       "3  Ask if the user really wants to close the give...             yes  \n",
       "4                                 css: information *              no  "
      ]
     },
     "execution_count": 43,
     "metadata": {},
     "output_type": "execute_result"
    }
   ],
   "source": [
    "declutter = pd.read_csv(\"declutter-gold_DevelopmentSet.csv\")\n",
    "declutter.head()"
   ]
  },
  {
   "cell_type": "markdown",
   "metadata": {},
   "source": [
    "# Training a word embedding on the sample comments"
   ]
  },
  {
   "cell_type": "code",
   "execution_count": null,
   "metadata": {},
   "outputs": [],
   "source": [
    "from scikitlearn import "
   ]
  },
  {
   "cell_type": "markdown",
   "metadata": {},
   "source": [
    "# References"
   ]
  },
  {
   "cell_type": "markdown",
   "metadata": {},
   "source": [
    "1.  Zhai, Juan, Xu, Xiangzhe, Shi, Yu, Tao, Guanhong, Pan, Minxue, Ma, Shiqing, Xu, Lei, Zhang, Weifeng, Tan, Lin & Zhang, Xiangyu. (2020). CPC: automatically classifying and propagating natural language comments via program analysis. Retrieved from http://dx.doi.org/doi:10.7282/t3nsjs-4386. [Link](https://rucore.libraries.rutgers.edu/rutgers-lib/61591/PDF/1/play/)\n",
    "2. Pascarella, L., Bruntink, M. & Bacchelli, A. Classifying code comments in Java software systems. Empir Software Eng 24, 1499–1537 (2019). https://doi.org/10.1007/s10664-019-09694-w [Link](https://link.springer.com/article/10.1007/s10664-019-09694-w)"
   ]
  },
  {
   "cell_type": "code",
   "execution_count": null,
   "metadata": {},
   "outputs": [],
   "source": []
  }
 ],
 "metadata": {
  "kernelspec": {
   "display_name": "Python 3",
   "language": "python",
   "name": "python3"
  },
  "language_info": {
   "codemirror_mode": {
    "name": "ipython",
    "version": 3
   },
   "file_extension": ".py",
   "mimetype": "text/x-python",
   "name": "python",
   "nbconvert_exporter": "python",
   "pygments_lexer": "ipython3",
   "version": "3.7.6"
  },
  "toc": {
   "base_numbering": 1,
   "nav_menu": {
    "height": "186.995px",
    "width": "385.998px"
   },
   "number_sections": true,
   "sideBar": true,
   "skip_h1_title": false,
   "title_cell": "Table of Contents",
   "title_sidebar": "Contents",
   "toc_cell": true,
   "toc_position": {
    "height": "calc(100% - 180px)",
    "left": "10px",
    "top": "150px",
    "width": "217.284px"
   },
   "toc_section_display": true,
   "toc_window_display": true
  }
 },
 "nbformat": 4,
 "nbformat_minor": 4
}
