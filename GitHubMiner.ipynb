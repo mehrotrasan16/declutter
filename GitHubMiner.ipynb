{
 "cells": [
  {
   "cell_type": "markdown",
   "metadata": {
    "toc": true
   },
   "source": [
    "<h1>Table of Contents<span class=\"tocSkip\"></span></h1>\n",
    "<div class=\"toc\"><ul class=\"toc-item\"><li><span><a href=\"#Github-Mining-with-Python-and-pygithub\" data-toc-modified-id=\"Github-Mining-with-Python-and-pygithub-1\"><span class=\"toc-item-num\">1&nbsp;&nbsp;</span>Github Mining with Python and pygithub</a></span></li></ul></div>"
   ]
  },
  {
   "cell_type": "markdown",
   "metadata": {},
   "source": [
    "# Github Mining with Python and pygithub"
   ]
  },
  {
   "cell_type": "markdown",
   "metadata": {},
   "source": [
    "Here we mine the Jabref github to get all the comment-code pairs added per commit over the last one year."
   ]
  },
  {
   "cell_type": "code",
   "execution_count": null,
   "metadata": {},
   "outputs": [],
   "source": [
    "from github import Github\n",
    "accesstoken = \"\"\n",
    "with open(\"D:/Temp/githubapitest/gitToken.txt\") as tokenreader:\n",
    "    accesstoken = tokenreader.read()\n",
    "g = Github(accesstoken)\n",
    "g"
   ]
  },
  {
   "cell_type": "code",
   "execution_count": null,
   "metadata": {},
   "outputs": [],
   "source": [
    "repo = g.get_repo('JabRef/jabref')\n",
    "repo"
   ]
  },
  {
   "cell_type": "code",
   "execution_count": null,
   "metadata": {},
   "outputs": [],
   "source": [
    "branches = list(repo.get_branches())\n",
    "branches"
   ]
  },
  {
   "cell_type": "markdown",
   "metadata": {},
   "source": [
    "Let us just choose the master branch for now"
   ]
  },
  {
   "cell_type": "code",
   "execution_count": null,
   "metadata": {},
   "outputs": [],
   "source": [
    "masterbranch = repo.get_branch(branch = \"master\")"
   ]
  },
  {
   "cell_type": "code",
   "execution_count": 25,
   "metadata": {},
   "outputs": [
    {
     "data": {
      "text/plain": [
       "<github.PaginatedList.PaginatedList at 0x2a0348f6248>"
      ]
     },
     "execution_count": 25,
     "metadata": {},
     "output_type": "execute_result"
    }
   ],
   "source": [
    "allcommits = repo.get_commits()\n",
    "allcommits"
   ]
  },
  {
   "cell_type": "code",
   "execution_count": 33,
   "metadata": {},
   "outputs": [
    {
     "name": "stdout",
     "output_type": "stream",
     "text": [
      "Mon, 04 May 2020 08:14:08 GMT\n",
      "Sun, 03 May 2020 18:43:32 GMT\n",
      "Sun, 03 May 2020 13:20:35 GMT\n",
      "Sat, 02 May 2020 11:01:21 GMT\n",
      "Sat, 02 May 2020 11:00:55 GMT\n",
      "Sat, 02 May 2020 11:00:26 GMT\n",
      "Fri, 01 May 2020 22:11:11 GMT\n",
      "Fri, 01 May 2020 20:08:42 GMT\n",
      "Fri, 01 May 2020 12:14:59 GMT\n",
      "Fri, 01 May 2020 10:13:44 GMT\n",
      "Thu, 30 Apr 2020 17:22:45 GMT\n",
      "Thu, 30 Apr 2020 11:13:14 GMT\n",
      "Thu, 30 Apr 2020 11:13:14 GMT\n",
      "Thu, 30 Apr 2020 09:10:13 GMT\n",
      "Wed, 29 Apr 2020 14:47:43 GMT\n",
      "Wed, 29 Apr 2020 06:50:29 GMT\n",
      "Tue, 28 Apr 2020 12:19:48 GMT\n",
      "Tue, 28 Apr 2020 07:13:08 GMT\n",
      "Tue, 28 Apr 2020 07:12:24 GMT\n",
      "Mon, 27 Apr 2020 18:55:05 GMT\n",
      "Mon, 27 Apr 2020 10:49:50 GMT\n",
      "Mon, 27 Apr 2020 10:47:52 GMT\n",
      "Mon, 27 Apr 2020 10:17:14 GMT\n",
      "Mon, 27 Apr 2020 10:16:31 GMT\n",
      "Mon, 27 Apr 2020 10:16:17 GMT\n",
      "Mon, 27 Apr 2020 10:15:44 GMT\n",
      "Mon, 27 Apr 2020 10:13:27 GMT\n",
      "Sun, 26 Apr 2020 19:05:45 GMT\n",
      "Sun, 26 Apr 2020 17:51:58 GMT\n",
      "Sun, 26 Apr 2020 16:34:54 GMT\n"
     ]
    }
   ],
   "source": [
    "tcom = []\n",
    "for e in allcommits.get_page(1):\n",
    "    tempcommit = repo.get_commit(e.sha)\n",
    "    tcom.append(tempcommit)\n",
    "    print((tempcommit.last_modified))"
   ]
  },
  {
   "cell_type": "code",
   "execution_count": 34,
   "metadata": {},
   "outputs": [
    {
     "data": {
      "text/plain": [
       "['CHECK_AFTER_INIT_FLAG',\n",
       " '_CompletableGithubObject__complete',\n",
       " '_CompletableGithubObject__completed',\n",
       " '_GithubObject__makeSimpleAttribute',\n",
       " '_GithubObject__makeSimpleListAttribute',\n",
       " '_GithubObject__makeTransformedAttribute',\n",
       " '__class__',\n",
       " '__delattr__',\n",
       " '__dict__',\n",
       " '__dir__',\n",
       " '__doc__',\n",
       " '__eq__',\n",
       " '__format__',\n",
       " '__ge__',\n",
       " '__getattribute__',\n",
       " '__gt__',\n",
       " '__hash__',\n",
       " '__init__',\n",
       " '__init_subclass__',\n",
       " '__le__',\n",
       " '__lt__',\n",
       " '__module__',\n",
       " '__ne__',\n",
       " '__new__',\n",
       " '__reduce__',\n",
       " '__reduce_ex__',\n",
       " '__repr__',\n",
       " '__setattr__',\n",
       " '__sizeof__',\n",
       " '__str__',\n",
       " '__subclasshook__',\n",
       " '__weakref__',\n",
       " '_author',\n",
       " '_comments_url',\n",
       " '_commit',\n",
       " '_committer',\n",
       " '_completeIfNeeded',\n",
       " '_completeIfNotSet',\n",
       " '_files',\n",
       " '_headers',\n",
       " '_html_url',\n",
       " '_identity',\n",
       " '_initAttributes',\n",
       " '_makeBoolAttribute',\n",
       " '_makeClassAttribute',\n",
       " '_makeDatetimeAttribute',\n",
       " '_makeDictAttribute',\n",
       " '_makeDictOfStringsToClassesAttribute',\n",
       " '_makeIntAttribute',\n",
       " '_makeListOfClassesAttribute',\n",
       " '_makeListOfDictsAttribute',\n",
       " '_makeListOfIntsAttribute',\n",
       " '_makeListOfListOfStringsAttribute',\n",
       " '_makeListOfStringsAttribute',\n",
       " '_makeStringAttribute',\n",
       " '_makeTimestampAttribute',\n",
       " '_parentUrl',\n",
       " '_parents',\n",
       " '_rawData',\n",
       " '_requester',\n",
       " '_sha',\n",
       " '_stats',\n",
       " '_storeAndUseAttributes',\n",
       " '_url',\n",
       " '_useAttributes',\n",
       " 'author',\n",
       " 'comments_url',\n",
       " 'commit',\n",
       " 'committer',\n",
       " 'create_comment',\n",
       " 'create_status',\n",
       " 'etag',\n",
       " 'files',\n",
       " 'get__repr__',\n",
       " 'get_combined_status',\n",
       " 'get_comments',\n",
       " 'get_statuses',\n",
       " 'html_url',\n",
       " 'last_modified',\n",
       " 'parents',\n",
       " 'raw_data',\n",
       " 'raw_headers',\n",
       " 'setCheckAfterInitFlag',\n",
       " 'sha',\n",
       " 'stats',\n",
       " 'update',\n",
       " 'url']"
      ]
     },
     "execution_count": 34,
     "metadata": {},
     "output_type": "execute_result"
    }
   ],
   "source": [
    "dir(tcom[0])"
   ]
  },
  {
   "cell_type": "code",
   "execution_count": 35,
   "metadata": {},
   "outputs": [
    {
     "data": {
      "text/plain": [
       "[File(sha=\"5d7f4d834967bd59f6819d147e84706800a98c0e\", filename=\"CHANGELOG.md\"),\n",
       " File(sha=\"a4a05883da3f5dec1cccdd34bf97d5203bac3433\", filename=\"src/main/java/org/jabref/gui/JabRefFrame.java\")]"
      ]
     },
     "execution_count": 35,
     "metadata": {},
     "output_type": "execute_result"
    }
   ],
   "source": [
    "tcom[0].files"
   ]
  },
  {
   "cell_type": "code",
   "execution_count": 40,
   "metadata": {},
   "outputs": [
    {
     "name": "stdout",
     "output_type": "stream",
     "text": [
      "@@ -245,6 +245,30 @@ private void initKeyBindings() {\n",
      "                     case SEARCH:\n",
      "                         getGlobalSearchBar().focus();\n",
      "                         break;\n",
      "+                    case NEW_ARTICLE:\n",
      "+                        new NewEntryAction(this, StandardEntryType.Article, dialogService, prefs, stateManager).execute();\n",
      "+                        break;\n",
      "+                    case NEW_BOOK:\n",
      "+                        new NewEntryAction(this, StandardEntryType.Book, dialogService, prefs, stateManager).execute();\n",
      "+                        break;\n",
      "+                    case NEW_INBOOK:\n",
      "+                        new NewEntryAction(this, StandardEntryType.InBook, dialogService, prefs, stateManager).execute();\n",
      "+                        break;\n",
      "+                    case NEW_MASTERSTHESIS:\n",
      "+                        new NewEntryAction(this, StandardEntryType.MastersThesis, dialogService, prefs, stateManager).execute();\n",
      "+                        break;\n",
      "+                    case NEW_PHDTHESIS:\n",
      "+                        new NewEntryAction(this, StandardEntryType.PhdThesis, dialogService, prefs, stateManager).execute();\n",
      "+                        break;\n",
      "+                    case NEW_PROCEEDINGS:\n",
      "+                        new NewEntryAction(this, StandardEntryType.Proceedings, dialogService, prefs, stateManager).execute();\n",
      "+                        break;\n",
      "+                    case NEW_TECHREPORT:\n",
      "+                        new NewEntryAction(this, StandardEntryType.TechReport, dialogService, prefs, stateManager).execute();\n",
      "+                        break;\n",
      "+                    case NEW_UNPUBLISHED:\n",
      "+                        new NewEntryAction(this, StandardEntryType.Unpublished, dialogService, prefs, stateManager).execute();\n",
      "+                        break;\n",
      "                     default:\n",
      "                 }\n",
      "             }\n"
     ]
    }
   ],
   "source": [
    "print(tcom[0].files[1].patch)"
   ]
  },
  {
   "cell_type": "code",
   "execution_count": null,
   "metadata": {},
   "outputs": [],
   "source": []
  }
 ],
 "metadata": {},
 "nbformat": 4,
 "nbformat_minor": 4
}
