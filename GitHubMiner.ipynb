{
 "cells": [
  {
   "cell_type": "markdown",
   "metadata": {
    "toc": true
   },
   "source": [
    "<h1>Table of Contents<span class=\"tocSkip\"></span></h1>\n",
    "<div class=\"toc\"><ul class=\"toc-item\"><li><span><a href=\"#Github-Mining-with-Python-and-pygithub\" data-toc-modified-id=\"Github-Mining-with-Python-and-pygithub-1\"><span class=\"toc-item-num\">1&nbsp;&nbsp;</span>Github Mining with Python and pygithub</a></span></li></ul></div>"
   ]
  },
  {
   "cell_type": "markdown",
   "metadata": {},
   "source": [
    "# Github Mining with Python and pygithub"
   ]
  },
  {
   "cell_type": "markdown",
   "metadata": {},
   "source": [
    "Here we mine the Jabref github to get all the comment-code pairs added per commit over the last one year."
   ]
  },
  {
   "cell_type": "code",
   "execution_count": 8,
   "metadata": {},
   "outputs": [],
   "source": [
    "import os"
   ]
  },
  {
   "cell_type": "code",
   "execution_count": 9,
   "metadata": {},
   "outputs": [
    {
     "data": {
      "text/plain": [
       "<github.MainClass.Github at 0x2497ee5f148>"
      ]
     },
     "execution_count": 9,
     "metadata": {},
     "output_type": "execute_result"
    }
   ],
   "source": [
    "from github import Github\n",
    "accesstoken = \"\"\n",
    "with open(\"D:/Temp/githubapitest/gitToken.txt\") as tokenreader:\n",
    "    accesstoken = tokenreader.read()\n",
    "g = Github(accesstoken)\n",
    "g"
   ]
  },
  {
   "cell_type": "code",
   "execution_count": 10,
   "metadata": {},
   "outputs": [
    {
     "data": {
      "text/plain": [
       "Repository(full_name=\"JabRef/jabref\")"
      ]
     },
     "execution_count": 10,
     "metadata": {},
     "output_type": "execute_result"
    }
   ],
   "source": [
    "repo = g.get_repo('JabRef/jabref')\n",
    "repo"
   ]
  },
  {
   "cell_type": "code",
   "execution_count": 11,
   "metadata": {},
   "outputs": [
    {
     "data": {
      "text/plain": [
       "[Branch(name=\"add-screenshots\"),\n",
       " Branch(name=\"allowReordering\"),\n",
       " Branch(name=\"autoinstall_ext\"),\n",
       " Branch(name=\"change-upload-back-to-script\"),\n",
       " Branch(name=\"check-duplicate-doi\"),\n",
       " Branch(name=\"chocoDev\"),\n",
       " Branch(name=\"dependency-updates\"),\n",
       " Branch(name=\"feature/xmp-provement\"),\n",
       " Branch(name=\"fix-4699-again\"),\n",
       " Branch(name=\"fix-5547\"),\n",
       " Branch(name=\"fix-change-on-disk-detection\"),\n",
       " Branch(name=\"fix-delay-task-throttler\"),\n",
       " Branch(name=\"fix-title\"),\n",
       " Branch(name=\"fix_fields_sql\"),\n",
       " Branch(name=\"fixAutocompleteThread\"),\n",
       " Branch(name=\"improve-checkstyle\"),\n",
       " Branch(name=\"koppor-patch-1\"),\n",
       " Branch(name=\"koppor/gitpod-setup\"),\n",
       " Branch(name=\"l10n_master\"),\n",
       " Branch(name=\"master\"),\n",
       " Branch(name=\"medline\"),\n",
       " Branch(name=\"pagedFetcher\"),\n",
       " Branch(name=\"sharelatex\"),\n",
       " Branch(name=\"udpate-gradle-to-64\"),\n",
       " Branch(name=\"update-checkstyle\"),\n",
       " Branch(name=\"update-journal-lists-automatically\")]"
      ]
     },
     "execution_count": 11,
     "metadata": {},
     "output_type": "execute_result"
    }
   ],
   "source": [
    "branches = list(repo.get_branches())\n",
    "branches"
   ]
  },
  {
   "cell_type": "markdown",
   "metadata": {},
   "source": [
    "Let us just choose the master branch for now"
   ]
  },
  {
   "cell_type": "code",
   "execution_count": 12,
   "metadata": {},
   "outputs": [],
   "source": [
    "masterbranch = repo.get_branch(branch = \"master\")"
   ]
  },
  {
   "cell_type": "code",
   "execution_count": 13,
   "metadata": {},
   "outputs": [
    {
     "data": {
      "text/plain": [
       "<github.PaginatedList.PaginatedList at 0x2497f612648>"
      ]
     },
     "execution_count": 13,
     "metadata": {},
     "output_type": "execute_result"
    }
   ],
   "source": [
    "allcommits = repo.get_commits()\n",
    "allcommits"
   ]
  },
  {
   "cell_type": "code",
   "execution_count": 14,
   "metadata": {},
   "outputs": [
    {
     "name": "stdout",
     "output_type": "stream",
     "text": [
      "Mon, 04 May 2020 11:33:57 GMT\n",
      "Mon, 04 May 2020 11:33:05 GMT\n",
      "Mon, 04 May 2020 11:32:54 GMT\n",
      "Mon, 04 May 2020 11:32:28 GMT\n",
      "Mon, 04 May 2020 11:16:36 GMT\n",
      "Mon, 04 May 2020 08:14:08 GMT\n",
      "Sun, 03 May 2020 18:43:32 GMT\n",
      "Sun, 03 May 2020 14:10:45 GMT\n",
      "Sun, 03 May 2020 13:20:35 GMT\n",
      "Sat, 02 May 2020 11:01:21 GMT\n",
      "Sat, 02 May 2020 11:00:55 GMT\n",
      "Sat, 02 May 2020 11:00:26 GMT\n",
      "Fri, 01 May 2020 22:11:11 GMT\n",
      "Fri, 01 May 2020 20:08:42 GMT\n",
      "Fri, 01 May 2020 12:14:59 GMT\n",
      "Fri, 01 May 2020 10:13:44 GMT\n",
      "Thu, 30 Apr 2020 17:22:45 GMT\n",
      "Thu, 30 Apr 2020 11:13:14 GMT\n",
      "Thu, 30 Apr 2020 11:13:14 GMT\n",
      "Thu, 30 Apr 2020 09:10:13 GMT\n",
      "Wed, 29 Apr 2020 14:47:43 GMT\n",
      "Wed, 29 Apr 2020 06:50:29 GMT\n",
      "Tue, 28 Apr 2020 12:19:48 GMT\n",
      "Tue, 28 Apr 2020 07:13:08 GMT\n",
      "Tue, 28 Apr 2020 07:12:24 GMT\n",
      "Mon, 27 Apr 2020 18:55:05 GMT\n",
      "Mon, 27 Apr 2020 10:49:50 GMT\n",
      "Mon, 27 Apr 2020 10:47:52 GMT\n",
      "Mon, 27 Apr 2020 10:17:14 GMT\n",
      "Mon, 27 Apr 2020 10:16:31 GMT\n"
     ]
    }
   ],
   "source": [
    "tcom = []\n",
    "for e in allcommits.get_page(1):\n",
    "    tempcommit = repo.get_commit(e.sha)\n",
    "    tcom.append(tempcommit)\n",
    "    print((tempcommit.last_modified))"
   ]
  },
  {
   "cell_type": "markdown",
   "metadata": {},
   "source": [
    "These commits seem to be in descending order"
   ]
  },
  {
   "cell_type": "code",
   "execution_count": 15,
   "metadata": {},
   "outputs": [
    {
     "data": {
      "text/plain": [
       "['CHECK_AFTER_INIT_FLAG',\n",
       " '_CompletableGithubObject__complete',\n",
       " '_CompletableGithubObject__completed',\n",
       " '_GithubObject__makeSimpleAttribute',\n",
       " '_GithubObject__makeSimpleListAttribute',\n",
       " '_GithubObject__makeTransformedAttribute',\n",
       " '__class__',\n",
       " '__delattr__',\n",
       " '__dict__',\n",
       " '__dir__',\n",
       " '__doc__',\n",
       " '__eq__',\n",
       " '__format__',\n",
       " '__ge__',\n",
       " '__getattribute__',\n",
       " '__gt__',\n",
       " '__hash__',\n",
       " '__init__',\n",
       " '__init_subclass__',\n",
       " '__le__',\n",
       " '__lt__',\n",
       " '__module__',\n",
       " '__ne__',\n",
       " '__new__',\n",
       " '__reduce__',\n",
       " '__reduce_ex__',\n",
       " '__repr__',\n",
       " '__setattr__',\n",
       " '__sizeof__',\n",
       " '__str__',\n",
       " '__subclasshook__',\n",
       " '__weakref__',\n",
       " '_author',\n",
       " '_comments_url',\n",
       " '_commit',\n",
       " '_committer',\n",
       " '_completeIfNeeded',\n",
       " '_completeIfNotSet',\n",
       " '_files',\n",
       " '_headers',\n",
       " '_html_url',\n",
       " '_identity',\n",
       " '_initAttributes',\n",
       " '_makeBoolAttribute',\n",
       " '_makeClassAttribute',\n",
       " '_makeDatetimeAttribute',\n",
       " '_makeDictAttribute',\n",
       " '_makeDictOfStringsToClassesAttribute',\n",
       " '_makeIntAttribute',\n",
       " '_makeListOfClassesAttribute',\n",
       " '_makeListOfDictsAttribute',\n",
       " '_makeListOfIntsAttribute',\n",
       " '_makeListOfListOfStringsAttribute',\n",
       " '_makeListOfStringsAttribute',\n",
       " '_makeStringAttribute',\n",
       " '_makeTimestampAttribute',\n",
       " '_parentUrl',\n",
       " '_parents',\n",
       " '_rawData',\n",
       " '_requester',\n",
       " '_sha',\n",
       " '_stats',\n",
       " '_storeAndUseAttributes',\n",
       " '_url',\n",
       " '_useAttributes',\n",
       " 'author',\n",
       " 'comments_url',\n",
       " 'commit',\n",
       " 'committer',\n",
       " 'create_comment',\n",
       " 'create_status',\n",
       " 'etag',\n",
       " 'files',\n",
       " 'get__repr__',\n",
       " 'get_combined_status',\n",
       " 'get_comments',\n",
       " 'get_statuses',\n",
       " 'html_url',\n",
       " 'last_modified',\n",
       " 'parents',\n",
       " 'raw_data',\n",
       " 'raw_headers',\n",
       " 'setCheckAfterInitFlag',\n",
       " 'sha',\n",
       " 'stats',\n",
       " 'update',\n",
       " 'url']"
      ]
     },
     "execution_count": 15,
     "metadata": {},
     "output_type": "execute_result"
    }
   ],
   "source": [
    "dir(tcom[0])"
   ]
  },
  {
   "cell_type": "markdown",
   "metadata": {},
   "source": [
    "We can now access the files changed in the commit"
   ]
  },
  {
   "cell_type": "code",
   "execution_count": 16,
   "metadata": {},
   "outputs": [
    {
     "data": {
      "text/plain": [
       "[File(sha=\"5d7f4d834967bd59f6819d147e84706800a98c0e\", filename=\"CHANGELOG.md\"),\n",
       " File(sha=\"a4a05883da3f5dec1cccdd34bf97d5203bac3433\", filename=\"src/main/java/org/jabref/gui/JabRefFrame.java\")]"
      ]
     },
     "execution_count": 16,
     "metadata": {},
     "output_type": "execute_result"
    }
   ],
   "source": [
    "tcom[5].files"
   ]
  },
  {
   "cell_type": "markdown",
   "metadata": {},
   "source": [
    "From the Github API v3 documentation, the changes to the files can be found in the patch end point."
   ]
  },
  {
   "cell_type": "code",
   "execution_count": 17,
   "metadata": {},
   "outputs": [
    {
     "name": "stdout",
     "output_type": "stream",
     "text": [
      "@@ -245,6 +245,30 @@ private void initKeyBindings() {\n",
      "                     case SEARCH:\n",
      "                         getGlobalSearchBar().focus();\n",
      "                         break;\n",
      "+                    case NEW_ARTICLE:\n",
      "+                        new NewEntryAction(this, StandardEntryType.Article, dialogService, prefs, stateManager).execute();\n",
      "+                        break;\n",
      "+                    case NEW_BOOK:\n",
      "+                        new NewEntryAction(this, StandardEntryType.Book, dialogService, prefs, stateManager).execute();\n",
      "+                        break;\n",
      "+                    case NEW_INBOOK:\n",
      "+                        new NewEntryAction(this, StandardEntryType.InBook, dialogService, prefs, stateManager).execute();\n",
      "+                        break;\n",
      "+                    case NEW_MASTERSTHESIS:\n",
      "+                        new NewEntryAction(this, StandardEntryType.MastersThesis, dialogService, prefs, stateManager).execute();\n",
      "+                        break;\n",
      "+                    case NEW_PHDTHESIS:\n",
      "+                        new NewEntryAction(this, StandardEntryType.PhdThesis, dialogService, prefs, stateManager).execute();\n",
      "+                        break;\n",
      "+                    case NEW_PROCEEDINGS:\n",
      "+                        new NewEntryAction(this, StandardEntryType.Proceedings, dialogService, prefs, stateManager).execute();\n",
      "+                        break;\n",
      "+                    case NEW_TECHREPORT:\n",
      "+                        new NewEntryAction(this, StandardEntryType.TechReport, dialogService, prefs, stateManager).execute();\n",
      "+                        break;\n",
      "+                    case NEW_UNPUBLISHED:\n",
      "+                        new NewEntryAction(this, StandardEntryType.Unpublished, dialogService, prefs, stateManager).execute();\n",
      "+                        break;\n",
      "                     default:\n",
      "                 }\n",
      "             }\n"
     ]
    }
   ],
   "source": [
    "print(tcom[5].files[1].patch)"
   ]
  },
  {
   "cell_type": "markdown",
   "metadata": {},
   "source": [
    "To get the newly added comments from the patch, we first extract the added code from the patch, we do not care about the removed code and the line numbers."
   ]
  },
  {
   "cell_type": "code",
   "execution_count": 18,
   "metadata": {},
   "outputs": [
    {
     "name": "stdout",
     "output_type": "stream",
     "text": [
      "+                    case NEW_ARTICLE:\n",
      "+                        new NewEntryAction(this, StandardEntryType.Article, dialogService, prefs, stateManager).execute();\n",
      "+                        break;\n",
      "+                    case NEW_BOOK:\n",
      "+                        new NewEntryAction(this, StandardEntryType.Book, dialogService, prefs, stateManager).execute();\n",
      "+                        break;\n",
      "+                    case NEW_INBOOK:\n",
      "+                        new NewEntryAction(this, StandardEntryType.InBook, dialogService, prefs, stateManager).execute();\n",
      "+                        break;\n",
      "+                    case NEW_MASTERSTHESIS:\n",
      "+                        new NewEntryAction(this, StandardEntryType.MastersThesis, dialogService, prefs, stateManager).execute();\n",
      "+                        break;\n",
      "+                    case NEW_PHDTHESIS:\n",
      "+                        new NewEntryAction(this, StandardEntryType.PhdThesis, dialogService, prefs, stateManager).execute();\n",
      "+                        break;\n",
      "+                    case NEW_PROCEEDINGS:\n",
      "+                        new NewEntryAction(this, StandardEntryType.Proceedings, dialogService, prefs, stateManager).execute();\n",
      "+                        break;\n",
      "+                    case NEW_TECHREPORT:\n",
      "+                        new NewEntryAction(this, StandardEntryType.TechReport, dialogService, prefs, stateManager).execute();\n",
      "+                        break;\n",
      "+                    case NEW_UNPUBLISHED:\n",
      "+                        new NewEntryAction(this, StandardEntryType.Unpublished, dialogService, prefs, stateManager).execute();\n",
      "+                        break;\n"
     ]
    }
   ],
   "source": [
    "addition = tcom[5].files[1].patch\n",
    "for line in addition.split(\"\\n\"):\n",
    "    if(line.find(\"+\") == 0):\n",
    "        print(line)"
   ]
  },
  {
   "cell_type": "markdown",
   "metadata": {},
   "source": [
    "Doing this \"pythonically\" in one line"
   ]
  },
  {
   "cell_type": "code",
   "execution_count": 24,
   "metadata": {},
   "outputs": [
    {
     "name": "stdout",
     "output_type": "stream",
     "text": [
      "@@ -245,6 +245,30 @@ private void initKeyBindings() {\n",
      "+                    case NEW_ARTICLE:\n",
      "+                        new NewEntryAction(this, StandardEntryType.Article, dialogService, prefs, stateManager).execute();\n",
      "+                        break;\n",
      "+                    case NEW_BOOK:\n",
      "+                        new NewEntryAction(this, StandardEntryType.Book, dialogService, prefs, stateManager).execute();\n",
      "+                        break;\n",
      "+                    case NEW_INBOOK:\n",
      "+                        new NewEntryAction(this, StandardEntryType.InBook, dialogService, prefs, stateManager).execute();\n",
      "+                        break;\n",
      "+                    case NEW_MASTERSTHESIS:\n",
      "+                        new NewEntryAction(this, StandardEntryType.MastersThesis, dialogService, prefs, stateManager).execute();\n",
      "+                        break;\n",
      "+                    case NEW_PHDTHESIS:\n",
      "+                        new NewEntryAction(this, StandardEntryType.PhdThesis, dialogService, prefs, stateManager).execute();\n",
      "+                        break;\n",
      "+                    case NEW_PROCEEDINGS:\n",
      "+                        new NewEntryAction(this, StandardEntryType.Proceedings, dialogService, prefs, stateManager).execute();\n",
      "+                        break;\n",
      "+                    case NEW_TECHREPORT:\n",
      "+                        new NewEntryAction(this, StandardEntryType.TechReport, dialogService, prefs, stateManager).execute();\n",
      "+                        break;\n",
      "+                    case NEW_UNPUBLISHED:\n",
      "+                        new NewEntryAction(this, StandardEntryType.Unpublished, dialogService, prefs, stateManager).execute();\n",
      "+                        break;\n"
     ]
    }
   ],
   "source": [
    "x = \"\\n\".join(line for line in addition.split(\"\\n\") if line.find(\"+\") >= 0)\n",
    "\n",
    "print(x)"
   ]
  },
  {
   "cell_type": "markdown",
   "metadata": {},
   "source": [
    "We then try to extract the comment from the added lines.(see get_comment in the class below)\n",
    "\n",
    "We code this information into a class, to better help us handle commits and their related comments in a pair format."
   ]
  },
  {
   "cell_type": "code",
   "execution_count": 38,
   "metadata": {},
   "outputs": [],
   "source": [
    "class CCPair:\n",
    "    \n",
    "    def __init__(self,sha):\n",
    "        import os\n",
    "        self.commit = repo.get_commit(sha)\n",
    "        self.files = self.commit.files\n",
    "#         self.patch = []\n",
    "        #replace patch with additions\n",
    "        self.addition = []\n",
    "        for file in self.files:\n",
    "            name = file.filename\n",
    "            if name.find(\".java\") > 0:   #java source files only\n",
    "                self.addition.append((os.path.basename(name), \"\\n\".join(line for line in addition.split(\"\\n\") if line.find(\"+\") >= 0)))\n",
    "                #self.patch.append((os.path.basename(name),file.patch))\n",
    "        #patch is an array of [class-file,full patch text] tuples\n",
    "        #we have to change this to [class-file,addition text] tuples\n",
    "#         for tp in self.patch:\n",
    "#             tp = [\" \".join([line for line in tp[1]])]\n",
    "        #self.additions = [line for line in self.patch.split(\"\\n\") if line.find(\"+\") == 0]\n",
    "        #self.comments = self.get_comments(self.additions)\n",
    "    \n",
    "    def __repr__(self):\n",
    "        return f'Commit-Comment Pair with Commit ID(sha): {self.commit.sha} containing files: {[os.path.basename(file.filename) for file in self.files]} \\n\\n\\n Addition = {self.addition}'\n",
    "    \n",
    "    \n",
    "    def get_comment(string):\n",
    "        import re\n",
    "        \n",
    "#     def get_comment(string):\n",
    "#         linenos = []\n",
    "#         classname = []\n",
    "#         for line in string:       \n",
    "#             if line.find(\"/*\") >= 0:\n",
    "#                 linenos.append(counter)\n",
    "#             if line.find(\"*/\") >= 0:\n",
    "#                 linenos.append(counter)\n",
    "#             counter += 1\n",
    "#             if line.find(\"*/\") >= 0:\n",
    "#                 classname.append(counter)\n",
    "#         return linenos,classname"
   ]
  },
  {
   "cell_type": "markdown",
   "metadata": {},
   "source": [
    "We now pass this class a sha from the list of commits we have derived from Github"
   ]
  },
  {
   "cell_type": "code",
   "execution_count": 28,
   "metadata": {},
   "outputs": [
    {
     "name": "stdout",
     "output_type": "stream",
     "text": [
      "Commit(sha=\"ccebeef40735ace6f484f1568df1b4edd5172961\")\n",
      "Commit(sha=\"b5599c9e1ce058ea67262da9142c017680bcd244\")\n",
      "Commit(sha=\"e981ea836ceba4ae60c4f9fb802fb72d2dd3b33c\")\n",
      "Commit(sha=\"bce9c3f48035c6bafd5914b725369f0e7f440f4f\")\n",
      "Commit(sha=\"7bb1e247f3e4a22c0c69815c1c937cc05a4d49fc\")\n"
     ]
    }
   ],
   "source": [
    "page_1 = allcommits.get_page(1)\n",
    "for c in page_1[:5]:\n",
    "    print(c)"
   ]
  },
  {
   "cell_type": "code",
   "execution_count": null,
   "metadata": {},
   "outputs": [],
   "source": []
  },
  {
   "cell_type": "code",
   "execution_count": 37,
   "metadata": {},
   "outputs": [
    {
     "ename": "IndexError",
     "evalue": "list index out of range",
     "output_type": "error",
     "traceback": [
      "\u001b[1;31m---------------------------------------------------------------------------\u001b[0m",
      "\u001b[1;31mIndexError\u001b[0m                                Traceback (most recent call last)",
      "\u001b[1;32m<ipython-input-37-36df20e9aa77>\u001b[0m in \u001b[0;36m<module>\u001b[1;34m\u001b[0m\n\u001b[0;32m      3\u001b[0m \u001b[1;32mfor\u001b[0m \u001b[0mc\u001b[0m \u001b[1;32min\u001b[0m \u001b[0mpage_1\u001b[0m\u001b[1;33m:\u001b[0m\u001b[1;33m\u001b[0m\u001b[1;33m\u001b[0m\u001b[0m\n\u001b[0;32m      4\u001b[0m     \u001b[0mtemp\u001b[0m \u001b[1;33m=\u001b[0m \u001b[0mCCPair\u001b[0m\u001b[1;33m(\u001b[0m\u001b[0mc\u001b[0m\u001b[1;33m.\u001b[0m\u001b[0msha\u001b[0m\u001b[1;33m)\u001b[0m\u001b[1;33m\u001b[0m\u001b[1;33m\u001b[0m\u001b[0m\n\u001b[1;32m----> 5\u001b[1;33m     \u001b[0mprint\u001b[0m\u001b[1;33m(\u001b[0m\u001b[0mtemp\u001b[0m\u001b[1;33m.\u001b[0m\u001b[0maddition\u001b[0m\u001b[1;33m[\u001b[0m\u001b[1;36m0\u001b[0m\u001b[1;33m]\u001b[0m\u001b[1;33m)\u001b[0m\u001b[1;33m\u001b[0m\u001b[1;33m\u001b[0m\u001b[0m\n\u001b[0m",
      "\u001b[1;31mIndexError\u001b[0m: list index out of range"
     ]
    }
   ],
   "source": [
    "ccarr = []\n",
    "\n",
    "for c in page_1:\n",
    "    temp = CCPair(c.sha)\n",
    "    if(temp.)\n",
    "    print(temp.addition[0])"
   ]
  },
  {
   "cell_type": "code",
   "execution_count": null,
   "metadata": {},
   "outputs": [],
   "source": [
    "CCArray = []\n",
    "for c in allcommits.get_page(1)[:9]:\n",
    "    temp = CCPair(c.sha)\n",
    "    if(len(temp.patch) > 0):\n",
    "        CCArray.append(temp)\n",
    "        print(temp.patch[0][1],'\\n\\n\\n\\n')\n",
    "\n",
    "for i in CCArray:\n",
    "    print(i.patch[0][0],i.patch[0][1])\n",
    "\n",
    "cc = CCArray[0]\n",
    "for line in cc.patch[0][1].split():\n",
    "    \n",
    "\n",
    "import re\n",
    "multilinecomments = re.findall(r\"/\\*(.|[\\r\\n])*?\\*/\",cc.patch[0][1])\n",
    "\n",
    "multilinecomments\n",
    "\n"
   ]
  }
 ],
 "metadata": {
  "language_info": {
   "codemirror_mode": {
    "name": "ipython",
    "version": 3
   },
   "file_extension": ".py",
   "mimetype": "text/x-python",
   "name": "python",
   "nbconvert_exporter": "python",
   "pygments_lexer": "ipython3",
   "version": "3.7.6"
  },
  "toc": {
   "toc_position": {
    "height": "calc(100% - 180px)",
    "left": "10px",
    "top": "150px",
    "width": "264.844px"
   }
  }
 },
 "nbformat": 4,
 "nbformat_minor": 4
}
